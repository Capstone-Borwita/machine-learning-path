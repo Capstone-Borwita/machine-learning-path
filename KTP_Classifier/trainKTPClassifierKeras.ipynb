{
 "cells": [
  {
   "cell_type": "code",
   "execution_count": null,
   "metadata": {
    "id": "maLiwAwFa_6E"
   },
   "outputs": [],
   "source": [
    "# Import necessary libraries\n",
    "import tensorflow as tf\n",
    "from tensorflow.keras import layers, models\n",
    "from tensorflow.keras.preprocessing.image import ImageDataGenerator\n",
    "from tensorflow.keras.applications import MobileNetV2\n",
    "from sklearn.metrics import classification_report, confusion_matrix\n",
    "import numpy as np\n",
    "from tensorflow.keras.callbacks import ReduceLROnPlateau, EarlyStopping, ModelCheckpoint, TensorBoard"
   ]
  },
  {
   "cell_type": "code",
   "execution_count": null,
   "metadata": {
    "id": "GveGDHnDbKAJ"
   },
   "outputs": [],
   "source": [
    "# Enable mixed precision for faster training (if supported by hardware)\n",
    "from tensorflow.keras import mixed_precision\n",
    "policy = mixed_precision.Policy('mixed_float16')\n",
    "mixed_precision.set_global_policy(policy) # set_policy is deprecated, use set_global_policy"
   ]
  },
  {
   "cell_type": "code",
   "execution_count": null,
   "metadata": {
    "colab": {
     "base_uri": "https://localhost:8080/"
    },
    "id": "MFUiYuhxbLen",
    "outputId": "59a674e6-0e6e-4d06-893c-76f39b217e26"
   },
   "outputs": [
    {
     "name": "stdout",
     "output_type": "stream",
     "text": [
      "Found 558 images belonging to 2 classes.\n",
      "Found 174 images belonging to 2 classes.\n"
     ]
    }
   ],
   "source": [
    "IMG_SIZE = (224, 224)\n",
    "BATCH_SIZE = 32\n",
    "EPOCHS = 50\n",
    "\n",
    "# Data augmentation\n",
    "train_datagen = ImageDataGenerator(\n",
    "    rescale=1.0 / 255,\n",
    "    brightness_range=[0.8, 1.2],\n",
    "    zoom_range=0.3,\n",
    "    rotation_range=30,\n",
    "    width_shift_range=0.3,\n",
    "    height_shift_range=0.3,\n",
    "    shear_range=0.3,\n",
    "    horizontal_flip=True,\n",
    "    validation_split=0.2\n",
    ")\n",
    "\n",
    "# Rescaling\n",
    "val_datagen = ImageDataGenerator(rescale=1.0 / 255)\n",
    "\n",
    "# Training and Validation Dataset\n",
    "train_data = train_datagen.flow_from_directory(\n",
    "    \"/content/drive/MyDrive/dataset/train\",\n",
    "    target_size=IMG_SIZE,\n",
    "    batch_size=BATCH_SIZE,\n",
    "    class_mode=\"binary\",\n",
    "    subset=\"training\"\n",
    ")\n",
    "\n",
    "val_data = val_datagen.flow_from_directory(\n",
    "    \"/content/drive/MyDrive/dataset/val\",\n",
    "    target_size=IMG_SIZE,\n",
    "    batch_size=BATCH_SIZE,\n",
    "    class_mode=\"binary\",\n",
    "    shuffle=False\n",
    ")"
   ]
  },
  {
   "cell_type": "code",
   "execution_count": null,
   "metadata": {
    "colab": {
     "base_uri": "https://localhost:8080/"
    },
    "id": "VoBXj05YbPtB",
    "outputId": "dc0068f9-7b30-4412-868f-401497642119"
   },
   "outputs": [
    {
     "name": "stdout",
     "output_type": "stream",
     "text": [
      "Class Indices (Train): {'KTP': 0, 'non_KTP': 1}\n",
      "Class Indices (Validation): {'KTP': 0, 'non_KTP': 1}\n",
      "Training samples: 558\n",
      "Validation samples: 174\n"
     ]
    }
   ],
   "source": [
    "# Indices\n",
    "print(\"Class Indices (Train):\", train_data.class_indices)\n",
    "print(\"Class Indices (Validation):\", val_data.class_indices)\n",
    "print(f\"Training samples: {train_data.samples}\")\n",
    "print(f\"Validation samples: {val_data.samples}\")"
   ]
  },
  {
   "cell_type": "code",
   "execution_count": null,
   "metadata": {
    "id": "bjYaDZo0bRBH"
   },
   "outputs": [],
   "source": [
    "# Using MobileNetV2 as Base Model\n",
    "base_model = MobileNetV2(\n",
    "    input_shape=(IMG_SIZE[0], IMG_SIZE[1], 3),\n",
    "    include_top=False,\n",
    "    weights=\"imagenet\"\n",
    ")\n",
    "base_model.trainable = False  # Freeze"
   ]
  },
  {
   "cell_type": "code",
   "execution_count": null,
   "metadata": {
    "id": "iVk92yiBbSk8"
   },
   "outputs": [],
   "source": [
    "model = models.Sequential([\n",
    "    base_model,\n",
    "    layers.GlobalAveragePooling2D(),\n",
    "    layers.Dense(256, activation=\"relu\", kernel_regularizer=tf.keras.regularizers.l2(1e-4)),\n",
    "    layers.Dropout(0.5),\n",
    "    layers.BatchNormalization(),\n",
    "    layers.Dense(1, activation=\"sigmoid\")\n",
    "])\n"
   ]
  },
  {
   "cell_type": "code",
   "execution_count": null,
   "metadata": {
    "id": "EfyNZb2TbUDa"
   },
   "outputs": [],
   "source": [
    "model.compile(\n",
    "    optimizer=tf.keras.optimizers.Adam(learning_rate=1e-3),\n",
    "    loss=\"binary_crossentropy\",\n",
    "    metrics=[\"accuracy\", tf.keras.metrics.Precision(), tf.keras.metrics.Recall()]\n",
    ")"
   ]
  },
  {
   "cell_type": "code",
   "execution_count": null,
   "metadata": {
    "id": "2k8qfqCjbVel"
   },
   "outputs": [],
   "source": [
    "# Callbacks\n",
    "reduce_lr = ReduceLROnPlateau(\n",
    "    monitor=\"val_loss\",\n",
    "    factor=0.5,\n",
    "    patience=3,\n",
    "    verbose=1\n",
    ")"
   ]
  },
  {
   "cell_type": "code",
   "execution_count": null,
   "metadata": {
    "id": "DxXOf1OlbWne"
   },
   "outputs": [],
   "source": [
    "early_stopping = EarlyStopping(\n",
    "    monitor=\"val_loss\",\n",
    "    patience=8,\n",
    "    restore_best_weights=True\n",
    ")"
   ]
  },
  {
   "cell_type": "code",
   "execution_count": null,
   "metadata": {
    "id": "J1H7e8cgbX2V"
   },
   "outputs": [],
   "source": [
    "model_checkpoint = ModelCheckpoint(\n",
    "    filepath=\"model_best.keras\",\n",
    "    monitor=\"val_loss\",\n",
    "    save_best_only=True,\n",
    "    verbose=1\n",
    ")"
   ]
  },
  {
   "cell_type": "code",
   "execution_count": null,
   "metadata": {
    "id": "35NBuaE2eWJG"
   },
   "outputs": [],
   "source": [
    "tensorboard = TensorBoard(log_dir='/content/logs', histogram_freq=1)"
   ]
  },
  {
   "cell_type": "code",
   "execution_count": null,
   "metadata": {
    "id": "5XtVuU_yfmPr"
   },
   "outputs": [],
   "source": [
    "import warnings\n",
    "warnings.filterwarnings(\"ignore\", category=UserWarning, module=\"keras.src.trainers.data_adapters.py_dataset_adapter\")\n"
   ]
  },
  {
   "cell_type": "code",
   "execution_count": null,
   "metadata": {
    "colab": {
     "base_uri": "https://localhost:8080/"
    },
    "id": "zmKTgOM0bbFM",
    "outputId": "48fd8ab6-3f48-4ba3-ac70-b755fa74c4df"
   },
   "outputs": [
    {
     "name": "stdout",
     "output_type": "stream",
     "text": [
      "Epoch 1/50\n",
      "\u001b[1m17/18\u001b[0m \u001b[32m━━━━━━━━━━━━━━━━━━\u001b[0m\u001b[37m━━\u001b[0m \u001b[1m1s\u001b[0m 1s/step - accuracy: 0.6883 - loss: 0.6696 - precision_1: 0.7072 - recall_1: 0.6606\n",
      "Epoch 1: val_loss improved from inf to 0.14043, saving model to model_best.keras\n",
      "\u001b[1m18/18\u001b[0m \u001b[32m━━━━━━━━━━━━━━━━━━━━\u001b[0m\u001b[37m\u001b[0m \u001b[1m162s\u001b[0m 7s/step - accuracy: 0.7013 - loss: 0.6477 - precision_1: 0.7181 - recall_1: 0.6767 - val_accuracy: 0.9713 - val_loss: 0.1404 - val_precision_1: 0.9767 - val_recall_1: 0.9655 - learning_rate: 0.0010\n",
      "Epoch 2/50\n",
      "\u001b[1m18/18\u001b[0m \u001b[32m━━━━━━━━━━━━━━━━━━━━\u001b[0m\u001b[37m\u001b[0m \u001b[1m0s\u001b[0m 419ms/step - accuracy: 0.9225 - loss: 0.2499 - precision_1: 0.9363 - recall_1: 0.9074\n",
      "Epoch 2: val_loss improved from 0.14043 to 0.11467, saving model to model_best.keras\n",
      "\u001b[1m18/18\u001b[0m \u001b[32m━━━━━━━━━━━━━━━━━━━━\u001b[0m\u001b[37m\u001b[0m \u001b[1m15s\u001b[0m 616ms/step - accuracy: 0.9227 - loss: 0.2493 - precision_1: 0.9368 - recall_1: 0.9072 - val_accuracy: 0.9770 - val_loss: 0.1147 - val_precision_1: 0.9882 - val_recall_1: 0.9655 - learning_rate: 0.0010\n",
      "Epoch 3/50\n",
      "\u001b[1m16/18\u001b[0m \u001b[32m━━━━━━━━━━━━━━━━━\u001b[0m\u001b[37m━━━\u001b[0m \u001b[1m0s\u001b[0m 349ms/step - accuracy: 0.9459 - loss: 0.1988 - precision_1: 0.9438 - recall_1: 0.9459\n",
      "Epoch 3: val_loss improved from 0.11467 to 0.10187, saving model to model_best.keras\n",
      "\u001b[1m18/18\u001b[0m \u001b[32m━━━━━━━━━━━━━━━━━━━━\u001b[0m\u001b[37m\u001b[0m \u001b[1m20s\u001b[0m 504ms/step - accuracy: 0.9434 - loss: 0.2026 - precision_1: 0.9421 - recall_1: 0.9429 - val_accuracy: 0.9828 - val_loss: 0.1019 - val_precision_1: 0.9884 - val_recall_1: 0.9770 - learning_rate: 0.0010\n",
      "Epoch 4/50\n",
      "\u001b[1m16/18\u001b[0m \u001b[32m━━━━━━━━━━━━━━━━━\u001b[0m\u001b[37m━━━\u001b[0m \u001b[1m0s\u001b[0m 357ms/step - accuracy: 0.9336 - loss: 0.1995 - precision_1: 0.9635 - recall_1: 0.9068\n",
      "Epoch 4: val_loss improved from 0.10187 to 0.09671, saving model to model_best.keras\n",
      "\u001b[1m18/18\u001b[0m \u001b[32m━━━━━━━━━━━━━━━━━━━━\u001b[0m\u001b[37m\u001b[0m \u001b[1m15s\u001b[0m 528ms/step - accuracy: 0.9341 - loss: 0.1990 - precision_1: 0.9599 - recall_1: 0.9107 - val_accuracy: 0.9828 - val_loss: 0.0967 - val_precision_1: 0.9884 - val_recall_1: 0.9770 - learning_rate: 0.0010\n",
      "Epoch 5/50\n",
      "\u001b[1m18/18\u001b[0m \u001b[32m━━━━━━━━━━━━━━━━━━━━\u001b[0m\u001b[37m\u001b[0m \u001b[1m0s\u001b[0m 333ms/step - accuracy: 0.9441 - loss: 0.1702 - precision_1: 0.9732 - recall_1: 0.9161\n",
      "Epoch 5: val_loss improved from 0.09671 to 0.09474, saving model to model_best.keras\n",
      "\u001b[1m18/18\u001b[0m \u001b[32m━━━━━━━━━━━━━━━━━━━━\u001b[0m\u001b[37m\u001b[0m \u001b[1m15s\u001b[0m 577ms/step - accuracy: 0.9448 - loss: 0.1691 - precision_1: 0.9731 - recall_1: 0.9175 - val_accuracy: 0.9828 - val_loss: 0.0947 - val_precision_1: 1.0000 - val_recall_1: 0.9655 - learning_rate: 0.0010\n",
      "Epoch 6/50\n",
      "\u001b[1m17/18\u001b[0m \u001b[32m━━━━━━━━━━━━━━━━━━\u001b[0m\u001b[37m━━\u001b[0m \u001b[1m0s\u001b[0m 357ms/step - accuracy: 0.9724 - loss: 0.1240 - precision_1: 0.9820 - recall_1: 0.9642\n",
      "Epoch 6: val_loss did not improve from 0.09474\n",
      "\u001b[1m18/18\u001b[0m \u001b[32m━━━━━━━━━━━━━━━━━━━━\u001b[0m\u001b[37m\u001b[0m \u001b[1m14s\u001b[0m 537ms/step - accuracy: 0.9706 - loss: 0.1269 - precision_1: 0.9787 - recall_1: 0.9638 - val_accuracy: 0.9770 - val_loss: 0.0994 - val_precision_1: 1.0000 - val_recall_1: 0.9540 - learning_rate: 0.0010\n",
      "Epoch 7/50\n",
      "\u001b[1m17/18\u001b[0m \u001b[32m━━━━━━━━━━━━━━━━━━\u001b[0m\u001b[37m━━\u001b[0m \u001b[1m0s\u001b[0m 330ms/step - accuracy: 0.9799 - loss: 0.1110 - precision_1: 0.9759 - recall_1: 0.9842\n",
      "Epoch 7: val_loss improved from 0.09474 to 0.08871, saving model to model_best.keras\n",
      "\u001b[1m18/18\u001b[0m \u001b[32m━━━━━━━━━━━━━━━━━━━━\u001b[0m\u001b[37m\u001b[0m \u001b[1m14s\u001b[0m 546ms/step - accuracy: 0.9786 - loss: 0.1132 - precision_1: 0.9747 - recall_1: 0.9828 - val_accuracy: 0.9770 - val_loss: 0.0887 - val_precision_1: 0.9882 - val_recall_1: 0.9655 - learning_rate: 0.0010\n",
      "Epoch 8/50\n",
      "\u001b[1m17/18\u001b[0m \u001b[32m━━━━━━━━━━━━━━━━━━\u001b[0m\u001b[37m━━\u001b[0m \u001b[1m0s\u001b[0m 436ms/step - accuracy: 0.9646 - loss: 0.1312 - precision_1: 0.9887 - recall_1: 0.9426\n",
      "Epoch 8: val_loss did not improve from 0.08871\n",
      "\u001b[1m18/18\u001b[0m \u001b[32m━━━━━━━━━━━━━━━━━━━━\u001b[0m\u001b[37m\u001b[0m \u001b[1m20s\u001b[0m 581ms/step - accuracy: 0.9642 - loss: 0.1328 - precision_1: 0.9865 - recall_1: 0.9437 - val_accuracy: 0.9713 - val_loss: 0.1033 - val_precision_1: 0.9881 - val_recall_1: 0.9540 - learning_rate: 0.0010\n",
      "Epoch 9/50\n",
      "\u001b[1m17/18\u001b[0m \u001b[32m━━━━━━━━━━━━━━━━━━\u001b[0m\u001b[37m━━\u001b[0m \u001b[1m0s\u001b[0m 431ms/step - accuracy: 0.9723 - loss: 0.1282 - precision_1: 0.9607 - recall_1: 0.9843\n",
      "Epoch 9: val_loss did not improve from 0.08871\n",
      "\u001b[1m18/18\u001b[0m \u001b[32m━━━━━━━━━━━━━━━━━━━━\u001b[0m\u001b[37m\u001b[0m \u001b[1m15s\u001b[0m 601ms/step - accuracy: 0.9724 - loss: 0.1295 - precision_1: 0.9621 - recall_1: 0.9829 - val_accuracy: 0.9713 - val_loss: 0.1083 - val_precision_1: 0.9881 - val_recall_1: 0.9540 - learning_rate: 0.0010\n",
      "Epoch 10/50\n",
      "\u001b[1m16/18\u001b[0m \u001b[32m━━━━━━━━━━━━━━━━━\u001b[0m\u001b[37m━━━\u001b[0m \u001b[1m0s\u001b[0m 349ms/step - accuracy: 0.9670 - loss: 0.1356 - precision_1: 0.9597 - recall_1: 0.9745\n",
      "Epoch 10: ReduceLROnPlateau reducing learning rate to 0.0005000000237487257.\n",
      "\n",
      "Epoch 10: val_loss did not improve from 0.08871\n",
      "\u001b[1m18/18\u001b[0m \u001b[32m━━━━━━━━━━━━━━━━━━━━\u001b[0m\u001b[37m\u001b[0m \u001b[1m20s\u001b[0m 516ms/step - accuracy: 0.9667 - loss: 0.1370 - precision_1: 0.9597 - recall_1: 0.9739 - val_accuracy: 0.9828 - val_loss: 0.0917 - val_precision_1: 0.9884 - val_recall_1: 0.9770 - learning_rate: 0.0010\n",
      "Epoch 11/50\n",
      "\u001b[1m17/18\u001b[0m \u001b[32m━━━━━━━━━━━━━━━━━━\u001b[0m\u001b[37m━━\u001b[0m \u001b[1m0s\u001b[0m 443ms/step - accuracy: 0.9569 - loss: 0.1448 - precision_1: 0.9590 - recall_1: 0.9587\n",
      "Epoch 11: val_loss improved from 0.08871 to 0.08271, saving model to model_best.keras\n",
      "\u001b[1m18/18\u001b[0m \u001b[32m━━━━━━━━━━━━━━━━━━━━\u001b[0m\u001b[37m\u001b[0m \u001b[1m21s\u001b[0m 616ms/step - accuracy: 0.9574 - loss: 0.1439 - precision_1: 0.9588 - recall_1: 0.9596 - val_accuracy: 0.9885 - val_loss: 0.0827 - val_precision_1: 0.9885 - val_recall_1: 0.9885 - learning_rate: 5.0000e-04\n",
      "Epoch 12/50\n",
      "\u001b[1m16/18\u001b[0m \u001b[32m━━━━━━━━━━━━━━━━━\u001b[0m\u001b[37m━━━\u001b[0m \u001b[1m0s\u001b[0m 372ms/step - accuracy: 0.9613 - loss: 0.1231 - precision_1: 0.9531 - recall_1: 0.9664\n",
      "Epoch 12: val_loss improved from 0.08271 to 0.07926, saving model to model_best.keras\n",
      "\u001b[1m18/18\u001b[0m \u001b[32m━━━━━━━━━━━━━━━━━━━━\u001b[0m\u001b[37m\u001b[0m \u001b[1m20s\u001b[0m 598ms/step - accuracy: 0.9619 - loss: 0.1229 - precision_1: 0.9547 - recall_1: 0.9665 - val_accuracy: 0.9885 - val_loss: 0.0793 - val_precision_1: 0.9885 - val_recall_1: 0.9885 - learning_rate: 5.0000e-04\n",
      "Epoch 13/50\n",
      "\u001b[1m18/18\u001b[0m \u001b[32m━━━━━━━━━━━━━━━━━━━━\u001b[0m\u001b[37m\u001b[0m \u001b[1m0s\u001b[0m 428ms/step - accuracy: 0.9712 - loss: 0.1129 - precision_1: 0.9922 - recall_1: 0.9553\n",
      "Epoch 13: val_loss improved from 0.07926 to 0.07608, saving model to model_best.keras\n",
      "\u001b[1m18/18\u001b[0m \u001b[32m━━━━━━━━━━━━━━━━━━━━\u001b[0m\u001b[37m\u001b[0m \u001b[1m21s\u001b[0m 630ms/step - accuracy: 0.9718 - loss: 0.1124 - precision_1: 0.9919 - recall_1: 0.9565 - val_accuracy: 0.9885 - val_loss: 0.0761 - val_precision_1: 0.9885 - val_recall_1: 0.9885 - learning_rate: 5.0000e-04\n",
      "Epoch 14/50\n",
      "\u001b[1m17/18\u001b[0m \u001b[32m━━━━━━━━━━━━━━━━━━\u001b[0m\u001b[37m━━\u001b[0m \u001b[1m0s\u001b[0m 354ms/step - accuracy: 0.9664 - loss: 0.1075 - precision_1: 0.9498 - recall_1: 0.9832\n",
      "Epoch 14: val_loss did not improve from 0.07608\n",
      "\u001b[1m18/18\u001b[0m \u001b[32m━━━━━━━━━━━━━━━━━━━━\u001b[0m\u001b[37m\u001b[0m \u001b[1m20s\u001b[0m 609ms/step - accuracy: 0.9668 - loss: 0.1069 - precision_1: 0.9514 - recall_1: 0.9823 - val_accuracy: 0.9885 - val_loss: 0.0768 - val_precision_1: 0.9885 - val_recall_1: 0.9885 - learning_rate: 5.0000e-04\n",
      "Epoch 15/50\n",
      "\u001b[1m18/18\u001b[0m \u001b[32m━━━━━━━━━━━━━━━━━━━━\u001b[0m\u001b[37m\u001b[0m \u001b[1m0s\u001b[0m 338ms/step - accuracy: 0.9706 - loss: 0.1094 - precision_1: 0.9675 - recall_1: 0.9742\n",
      "Epoch 15: val_loss did not improve from 0.07608\n",
      "\u001b[1m18/18\u001b[0m \u001b[32m━━━━━━━━━━━━━━━━━━━━\u001b[0m\u001b[37m\u001b[0m \u001b[1m20s\u001b[0m 518ms/step - accuracy: 0.9707 - loss: 0.1097 - precision_1: 0.9673 - recall_1: 0.9746 - val_accuracy: 0.9770 - val_loss: 0.0852 - val_precision_1: 0.9882 - val_recall_1: 0.9655 - learning_rate: 5.0000e-04\n",
      "Epoch 16/50\n",
      "\u001b[1m17/18\u001b[0m \u001b[32m━━━━━━━━━━━━━━━━━━\u001b[0m\u001b[37m━━\u001b[0m \u001b[1m0s\u001b[0m 334ms/step - accuracy: 0.9684 - loss: 0.1056 - precision_1: 0.9693 - recall_1: 0.9688\n",
      "Epoch 16: ReduceLROnPlateau reducing learning rate to 0.0002500000118743628.\n",
      "\n",
      "Epoch 16: val_loss did not improve from 0.07608\n",
      "\u001b[1m18/18\u001b[0m \u001b[32m━━━━━━━━━━━━━━━━━━━━\u001b[0m\u001b[37m\u001b[0m \u001b[1m14s\u001b[0m 489ms/step - accuracy: 0.9693 - loss: 0.1053 - precision_1: 0.9699 - recall_1: 0.9699 - val_accuracy: 0.9713 - val_loss: 0.0920 - val_precision_1: 0.9881 - val_recall_1: 0.9540 - learning_rate: 5.0000e-04\n",
      "Epoch 17/50\n",
      "\u001b[1m17/18\u001b[0m \u001b[32m━━━━━━━━━━━━━━━━━━\u001b[0m\u001b[37m━━\u001b[0m \u001b[1m0s\u001b[0m 405ms/step - accuracy: 0.9686 - loss: 0.1258 - precision_1: 0.9852 - recall_1: 0.9538\n",
      "Epoch 17: val_loss did not improve from 0.07608\n",
      "\u001b[1m18/18\u001b[0m \u001b[32m━━━━━━━━━━━━━━━━━━━━\u001b[0m\u001b[37m\u001b[0m \u001b[1m20s\u001b[0m 574ms/step - accuracy: 0.9685 - loss: 0.1267 - precision_1: 0.9841 - recall_1: 0.9545 - val_accuracy: 0.9713 - val_loss: 0.0893 - val_precision_1: 0.9881 - val_recall_1: 0.9540 - learning_rate: 2.5000e-04\n",
      "Epoch 18/50\n",
      "\u001b[1m16/18\u001b[0m \u001b[32m━━━━━━━━━━━━━━━━━\u001b[0m\u001b[37m━━━\u001b[0m \u001b[1m0s\u001b[0m 389ms/step - accuracy: 0.9865 - loss: 0.0852 - precision_1: 0.9933 - recall_1: 0.9800\n",
      "Epoch 18: val_loss did not improve from 0.07608\n",
      "\u001b[1m18/18\u001b[0m \u001b[32m━━━━━━━━━━━━━━━━━━━━\u001b[0m\u001b[37m\u001b[0m \u001b[1m21s\u001b[0m 522ms/step - accuracy: 0.9855 - loss: 0.0876 - precision_1: 0.9920 - recall_1: 0.9793 - val_accuracy: 0.9713 - val_loss: 0.0890 - val_precision_1: 0.9881 - val_recall_1: 0.9540 - learning_rate: 2.5000e-04\n",
      "Epoch 19/50\n",
      "\u001b[1m17/18\u001b[0m \u001b[32m━━━━━━━━━━━━━━━━━━\u001b[0m\u001b[37m━━\u001b[0m \u001b[1m0s\u001b[0m 430ms/step - accuracy: 0.9614 - loss: 0.1239 - precision_1: 0.9772 - recall_1: 0.9487\n",
      "Epoch 19: ReduceLROnPlateau reducing learning rate to 0.0001250000059371814.\n",
      "\n",
      "Epoch 19: val_loss did not improve from 0.07608\n",
      "\u001b[1m18/18\u001b[0m \u001b[32m━━━━━━━━━━━━━━━━━━━━\u001b[0m\u001b[37m\u001b[0m \u001b[1m21s\u001b[0m 583ms/step - accuracy: 0.9617 - loss: 0.1247 - precision_1: 0.9766 - recall_1: 0.9496 - val_accuracy: 0.9828 - val_loss: 0.0813 - val_precision_1: 0.9884 - val_recall_1: 0.9770 - learning_rate: 2.5000e-04\n",
      "Epoch 20/50\n",
      "\u001b[1m17/18\u001b[0m \u001b[32m━━━━━━━━━━━━━━━━━━\u001b[0m\u001b[37m━━\u001b[0m \u001b[1m0s\u001b[0m 451ms/step - accuracy: 0.9776 - loss: 0.0996 - precision_1: 0.9771 - recall_1: 0.9759\n",
      "Epoch 20: val_loss did not improve from 0.07608\n",
      "\u001b[1m18/18\u001b[0m \u001b[32m━━━━━━━━━━━━━━━━━━━━\u001b[0m\u001b[37m\u001b[0m \u001b[1m14s\u001b[0m 607ms/step - accuracy: 0.9771 - loss: 0.1009 - precision_1: 0.9765 - recall_1: 0.9758 - val_accuracy: 0.9828 - val_loss: 0.0812 - val_precision_1: 0.9884 - val_recall_1: 0.9770 - learning_rate: 1.2500e-04\n",
      "Epoch 21/50\n",
      "\u001b[1m17/18\u001b[0m \u001b[32m━━━━━━━━━━━━━━━━━━\u001b[0m\u001b[37m━━\u001b[0m \u001b[1m0s\u001b[0m 337ms/step - accuracy: 0.9784 - loss: 0.1212 - precision_1: 0.9807 - recall_1: 0.9775\n",
      "Epoch 21: val_loss did not improve from 0.07608\n",
      "\u001b[1m18/18\u001b[0m \u001b[32m━━━━━━━━━━━━━━━━━━━━\u001b[0m\u001b[37m\u001b[0m \u001b[1m21s\u001b[0m 498ms/step - accuracy: 0.9786 - loss: 0.1193 - precision_1: 0.9808 - recall_1: 0.9776 - val_accuracy: 0.9828 - val_loss: 0.0812 - val_precision_1: 0.9884 - val_recall_1: 0.9770 - learning_rate: 1.2500e-04\n"
     ]
    }
   ],
   "source": [
    "# Train the model\n",
    "history = model.fit(\n",
    "    train_data,\n",
    "    validation_data=val_data,\n",
    "    epochs=EPOCHS,\n",
    "    callbacks=[early_stopping, reduce_lr, model_checkpoint, tensorboard]\n",
    ")"
   ]
  },
  {
   "cell_type": "code",
   "execution_count": null,
   "metadata": {
    "id": "e9fywueWbgRy"
   },
   "outputs": [],
   "source": [
    "# Unfreeze some layers for fine-tuning\n",
    "base_model.trainable = True\n",
    "for layer in base_model.layers[:-20]:  # Freeze earlier layers\n",
    "    layer.trainable = False"
   ]
  },
  {
   "cell_type": "code",
   "execution_count": null,
   "metadata": {
    "id": "aRQDg4Ojbh6V"
   },
   "outputs": [],
   "source": [
    "# Recompile with lower learning rate for fine-tuning\n",
    "model.compile(\n",
    "    optimizer=tf.keras.optimizers.SGD(learning_rate=1e-4, momentum=0.9),\n",
    "    loss=\"binary_crossentropy\",\n",
    "    metrics=[\"accuracy\", tf.keras.metrics.Precision(), tf.keras.metrics.Recall()]\n",
    ")"
   ]
  },
  {
   "cell_type": "code",
   "execution_count": null,
   "metadata": {
    "colab": {
     "base_uri": "https://localhost:8080/"
    },
    "id": "-hnG23oEbjCk",
    "outputId": "ee4a8673-ea52-4f80-a9a7-d3862a499205"
   },
   "outputs": [
    {
     "name": "stdout",
     "output_type": "stream",
     "text": [
      "Epoch 1/50\n",
      "\u001b[1m17/18\u001b[0m \u001b[32m━━━━━━━━━━━━━━━━━━\u001b[0m\u001b[37m━━\u001b[0m \u001b[1m0s\u001b[0m 846ms/step - accuracy: 0.9050 - loss: 0.2642 - precision_2: 0.8752 - recall_2: 0.9452\n",
      "Epoch 1: val_loss did not improve from 0.07608\n",
      "\u001b[1m18/18\u001b[0m \u001b[32m━━━━━━━━━━━━━━━━━━━━\u001b[0m\u001b[37m\u001b[0m \u001b[1m45s\u001b[0m 1s/step - accuracy: 0.9064 - loss: 0.2630 - precision_2: 0.8770 - recall_2: 0.9457 - val_accuracy: 0.9828 - val_loss: 0.0800 - val_precision_2: 0.9884 - val_recall_2: 0.9770 - learning_rate: 1.0000e-04\n",
      "Epoch 2/50\n",
      "\u001b[1m17/18\u001b[0m \u001b[32m━━━━━━━━━━━━━━━━━━\u001b[0m\u001b[37m━━\u001b[0m \u001b[1m0s\u001b[0m 468ms/step - accuracy: 0.9085 - loss: 0.2495 - precision_2: 0.8870 - recall_2: 0.9319\n",
      "Epoch 2: val_loss did not improve from 0.07608\n",
      "\u001b[1m18/18\u001b[0m \u001b[32m━━━━━━━━━━━━━━━━━━━━\u001b[0m\u001b[37m\u001b[0m \u001b[1m18s\u001b[0m 622ms/step - accuracy: 0.9098 - loss: 0.2472 - precision_2: 0.8890 - recall_2: 0.9326 - val_accuracy: 0.9713 - val_loss: 0.0915 - val_precision_2: 0.9881 - val_recall_2: 0.9540 - learning_rate: 1.0000e-04\n",
      "Epoch 3/50\n",
      "\u001b[1m18/18\u001b[0m \u001b[32m━━━━━━━━━━━━━━━━━━━━\u001b[0m\u001b[37m\u001b[0m \u001b[1m0s\u001b[0m 317ms/step - accuracy: 0.9292 - loss: 0.2298 - precision_2: 0.9594 - recall_2: 0.9040\n",
      "Epoch 3: val_loss did not improve from 0.07608\n",
      "\u001b[1m18/18\u001b[0m \u001b[32m━━━━━━━━━━━━━━━━━━━━\u001b[0m\u001b[37m\u001b[0m \u001b[1m20s\u001b[0m 491ms/step - accuracy: 0.9291 - loss: 0.2296 - precision_2: 0.9579 - recall_2: 0.9049 - val_accuracy: 0.9713 - val_loss: 0.1020 - val_precision_2: 0.9881 - val_recall_2: 0.9540 - learning_rate: 1.0000e-04\n",
      "Epoch 4/50\n",
      "\u001b[1m17/18\u001b[0m \u001b[32m━━━━━━━━━━━━━━━━━━\u001b[0m\u001b[37m━━\u001b[0m \u001b[1m0s\u001b[0m 432ms/step - accuracy: 0.9585 - loss: 0.1778 - precision_2: 0.9478 - recall_2: 0.9719\n",
      "Epoch 4: ReduceLROnPlateau reducing learning rate to 4.999999873689376e-05.\n",
      "\n",
      "Epoch 4: val_loss did not improve from 0.07608\n",
      "\u001b[1m18/18\u001b[0m \u001b[32m━━━━━━━━━━━━━━━━━━━━\u001b[0m\u001b[37m\u001b[0m \u001b[1m21s\u001b[0m 588ms/step - accuracy: 0.9567 - loss: 0.1832 - precision_2: 0.9450 - recall_2: 0.9711 - val_accuracy: 0.9713 - val_loss: 0.1151 - val_precision_2: 1.0000 - val_recall_2: 0.9425 - learning_rate: 1.0000e-04\n",
      "Epoch 5/50\n",
      "\u001b[1m17/18\u001b[0m \u001b[32m━━━━━━━━━━━━━━━━━━\u001b[0m\u001b[37m━━\u001b[0m \u001b[1m0s\u001b[0m 443ms/step - accuracy: 0.9524 - loss: 0.1661 - precision_2: 0.9469 - recall_2: 0.9625\n",
      "Epoch 5: val_loss did not improve from 0.07608\n",
      "\u001b[1m18/18\u001b[0m \u001b[32m━━━━━━━━━━━━━━━━━━━━\u001b[0m\u001b[37m\u001b[0m \u001b[1m14s\u001b[0m 592ms/step - accuracy: 0.9514 - loss: 0.1675 - precision_2: 0.9437 - recall_2: 0.9638 - val_accuracy: 0.9713 - val_loss: 0.1292 - val_precision_2: 1.0000 - val_recall_2: 0.9425 - learning_rate: 5.0000e-05\n",
      "Epoch 6/50\n",
      "\u001b[1m18/18\u001b[0m \u001b[32m━━━━━━━━━━━━━━━━━━━━\u001b[0m\u001b[37m\u001b[0m \u001b[1m0s\u001b[0m 431ms/step - accuracy: 0.9558 - loss: 0.1688 - precision_2: 0.9392 - recall_2: 0.9770\n",
      "Epoch 6: val_loss did not improve from 0.07608\n",
      "\u001b[1m18/18\u001b[0m \u001b[32m━━━━━━━━━━━━━━━━━━━━\u001b[0m\u001b[37m\u001b[0m \u001b[1m14s\u001b[0m 607ms/step - accuracy: 0.9555 - loss: 0.1694 - precision_2: 0.9386 - recall_2: 0.9769 - val_accuracy: 0.9598 - val_loss: 0.1408 - val_precision_2: 1.0000 - val_recall_2: 0.9195 - learning_rate: 5.0000e-05\n",
      "Epoch 7/50\n",
      "\u001b[1m18/18\u001b[0m \u001b[32m━━━━━━━━━━━━━━━━━━━━\u001b[0m\u001b[37m\u001b[0m \u001b[1m0s\u001b[0m 347ms/step - accuracy: 0.9431 - loss: 0.1688 - precision_2: 0.9353 - recall_2: 0.9531\n",
      "Epoch 7: ReduceLROnPlateau reducing learning rate to 2.499999936844688e-05.\n",
      "\n",
      "Epoch 7: val_loss did not improve from 0.07608\n",
      "\u001b[1m18/18\u001b[0m \u001b[32m━━━━━━━━━━━━━━━━━━━━\u001b[0m\u001b[37m\u001b[0m \u001b[1m21s\u001b[0m 536ms/step - accuracy: 0.9434 - loss: 0.1690 - precision_2: 0.9346 - recall_2: 0.9544 - val_accuracy: 0.9598 - val_loss: 0.1460 - val_precision_2: 1.0000 - val_recall_2: 0.9195 - learning_rate: 5.0000e-05\n",
      "Epoch 8/50\n",
      "\u001b[1m18/18\u001b[0m \u001b[32m━━━━━━━━━━━━━━━━━━━━\u001b[0m\u001b[37m\u001b[0m \u001b[1m0s\u001b[0m 412ms/step - accuracy: 0.9483 - loss: 0.1870 - precision_2: 0.9235 - recall_2: 0.9768\n",
      "Epoch 8: val_loss did not improve from 0.07608\n",
      "\u001b[1m18/18\u001b[0m \u001b[32m━━━━━━━━━━━━━━━━━━━━\u001b[0m\u001b[37m\u001b[0m \u001b[1m20s\u001b[0m 585ms/step - accuracy: 0.9481 - loss: 0.1873 - precision_2: 0.9234 - recall_2: 0.9765 - val_accuracy: 0.9598 - val_loss: 0.1518 - val_precision_2: 1.0000 - val_recall_2: 0.9195 - learning_rate: 2.5000e-05\n"
     ]
    }
   ],
   "source": [
    "# Fine-tune the model\n",
    "history_finetune = model.fit(\n",
    "    train_data,\n",
    "    validation_data=val_data,\n",
    "    epochs=EPOCHS,\n",
    "    callbacks=[early_stopping, reduce_lr, model_checkpoint, tensorboard]\n",
    ")"
   ]
  },
  {
   "cell_type": "code",
   "execution_count": null,
   "metadata": {
    "colab": {
     "base_uri": "https://localhost:8080/"
    },
    "id": "aaPM-f8obkSw",
    "outputId": "6caa0a1c-97b4-4034-ea03-46ffbac2902f"
   },
   "outputs": [
    {
     "name": "stdout",
     "output_type": "stream",
     "text": [
      "\u001b[1m6/6\u001b[0m \u001b[32m━━━━━━━━━━━━━━━━━━━━\u001b[0m\u001b[37m\u001b[0m \u001b[1m1s\u001b[0m 166ms/step - accuracy: 0.9794 - loss: 0.0808 - precision_2: 0.6895 - recall_2: 0.6810\n",
      "Validation Loss: 0.0800\n",
      "Validation Accuracy: 0.9828\n",
      "Validation Precision: 0.9884\n",
      "Validation Recall: 0.9770\n"
     ]
    }
   ],
   "source": [
    "# Evaluate the model\n",
    "loss, accuracy, precision, recall = model.evaluate(val_data)\n",
    "print(f\"Validation Loss: {loss:.4f}\")\n",
    "print(f\"Validation Accuracy: {accuracy:.4f}\")\n",
    "print(f\"Validation Precision: {precision:.4f}\")\n",
    "print(f\"Validation Recall: {recall:.4f}\")"
   ]
  },
  {
   "cell_type": "code",
   "execution_count": null,
   "metadata": {
    "colab": {
     "base_uri": "https://localhost:8080/"
    },
    "id": "VgK3eth8blrW",
    "outputId": "5e595070-ad0a-4a45-91ab-1a47700bab9f"
   },
   "outputs": [
    {
     "name": "stdout",
     "output_type": "stream",
     "text": [
      "\u001b[1m6/6\u001b[0m \u001b[32m━━━━━━━━━━━━━━━━━━━━\u001b[0m\u001b[37m\u001b[0m \u001b[1m8s\u001b[0m 995ms/step\n"
     ]
    }
   ],
   "source": [
    "# Generate predictions and evaluate\n",
    "val_preds = (model.predict(val_data) > 0.5).astype(\"int32\").flatten()\n",
    "true_labels = val_data.classes\n"
   ]
  },
  {
   "cell_type": "code",
   "execution_count": null,
   "metadata": {
    "colab": {
     "base_uri": "https://localhost:8080/"
    },
    "id": "4UE6vS0Rbm6a",
    "outputId": "b6385546-e8a9-429a-d95d-82c71505de55"
   },
   "outputs": [
    {
     "name": "stdout",
     "output_type": "stream",
     "text": [
      "\n",
      "Classification Report:\n",
      "              precision    recall  f1-score   support\n",
      "\n",
      "           0       0.98      0.99      0.98        87\n",
      "           1       0.99      0.98      0.98        87\n",
      "\n",
      "    accuracy                           0.98       174\n",
      "   macro avg       0.98      0.98      0.98       174\n",
      "weighted avg       0.98      0.98      0.98       174\n",
      "\n",
      "\n",
      "Confusion Matrix:\n",
      "[[86  1]\n",
      " [ 2 85]]\n"
     ]
    }
   ],
   "source": [
    "print(\"\\nClassification Report:\")\n",
    "print(classification_report(true_labels, val_preds))\n",
    "print(\"\\nConfusion Matrix:\")\n",
    "print(confusion_matrix(true_labels, val_preds))"
   ]
  },
  {
   "cell_type": "code",
   "execution_count": null,
   "metadata": {
    "id": "vAiXiS4Jiwrb"
   },
   "outputs": [],
   "source": [
    "model.save(\"/content/drive/MyDrive/model_best.keras\")"
   ]
  }
 ],
 "metadata": {
  "accelerator": "GPU",
  "colab": {
   "gpuType": "T4",
   "provenance": []
  },
  "kernelspec": {
   "display_name": "Python 3",
   "name": "python3"
  },
  "language_info": {
   "name": "python"
  }
 },
 "nbformat": 4,
 "nbformat_minor": 0
}
